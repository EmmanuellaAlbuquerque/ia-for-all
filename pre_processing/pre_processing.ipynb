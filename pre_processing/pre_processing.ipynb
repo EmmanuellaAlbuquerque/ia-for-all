{
  "nbformat": 4,
  "nbformat_minor": 0,
  "metadata": {
    "colab": {
      "name": "pre-processing.ipynb",
      "provenance": [],
      "collapsed_sections": []
    },
    "kernelspec": {
      "name": "python3",
      "display_name": "Python 3"
    }
  },
  "cells": [
    {
      "cell_type": "markdown",
      "metadata": {
        "id": "tsqNhC43pjC4",
        "colab_type": "text"
      },
      "source": [
        "# Pré-processamento de dados\n",
        "- Eliminação manual de atributos\n",
        "- Integração de dados\n",
        "- Amostragem de dados\n",
        "- Balanceamento de dados\n",
        "- Limpeza de dados\n",
        "- Redução de dimensionalidade\n",
        "- Transformação de dados: Normalização"
      ]
    },
    {
      "cell_type": "markdown",
      "metadata": {
        "id": "hHcnw2LDon_D",
        "colab_type": "text"
      },
      "source": [
        "### Dataset\n",
        "[Kaggle Brazil Covid19](https://www.kaggle.com/unanimad/corona-virus-brazil?select=brazil_covid19.csv)\n"
      ]
    },
    {
      "cell_type": "markdown",
      "metadata": {
        "id": "bBOfX45qdKdv",
        "colab_type": "text"
      },
      "source": [
        "OBS: Os números não significam, necessariamente, que as infecções e mortes aconteceram de um dia para o outro, porque o balanço estadual considera a data em que os diagnósticos foram contabilizados no sistema."
      ]
    },
    {
      "cell_type": "markdown",
      "metadata": {
        "id": "72NfQqa0rKIG",
        "colab_type": "text"
      },
      "source": [
        "## Exploração de dados\n",
        "- **Estatística Descritiva**"
      ]
    },
    {
      "cell_type": "code",
      "metadata": {
        "id": "lnT4ZyeVp29o",
        "colab_type": "code",
        "colab": {}
      },
      "source": [
        "import pandas as pd"
      ],
      "execution_count": 370,
      "outputs": []
    },
    {
      "cell_type": "code",
      "metadata": {
        "id": "MpNvbbMtoTWq",
        "colab_type": "code",
        "colab": {
          "base_uri": "https://localhost:8080/",
          "height": 359
        },
        "outputId": "3f3aa75f-fae1-42ab-e6b7-960c06e4d3e9"
      },
      "source": [
        "df = pd.read_csv('brazil_covid19.csv')\n",
        "df.sample(10)"
      ],
      "execution_count": 371,
      "outputs": [
        {
          "output_type": "execute_result",
          "data": {
            "text/html": [
              "<div>\n",
              "<style scoped>\n",
              "    .dataframe tbody tr th:only-of-type {\n",
              "        vertical-align: middle;\n",
              "    }\n",
              "\n",
              "    .dataframe tbody tr th {\n",
              "        vertical-align: top;\n",
              "    }\n",
              "\n",
              "    .dataframe thead th {\n",
              "        text-align: right;\n",
              "    }\n",
              "</style>\n",
              "<table border=\"1\" class=\"dataframe\">\n",
              "  <thead>\n",
              "    <tr style=\"text-align: right;\">\n",
              "      <th></th>\n",
              "      <th>date</th>\n",
              "      <th>region</th>\n",
              "      <th>state</th>\n",
              "      <th>cases</th>\n",
              "      <th>deaths</th>\n",
              "    </tr>\n",
              "  </thead>\n",
              "  <tbody>\n",
              "    <tr>\n",
              "      <th>3409</th>\n",
              "      <td>2020-06-30</td>\n",
              "      <td>Nordeste</td>\n",
              "      <td>MA</td>\n",
              "      <td>80451</td>\n",
              "      <td>2048</td>\n",
              "    </tr>\n",
              "    <tr>\n",
              "      <th>1504</th>\n",
              "      <td>2020-04-20</td>\n",
              "      <td>Norte</td>\n",
              "      <td>TO</td>\n",
              "      <td>34</td>\n",
              "      <td>1</td>\n",
              "    </tr>\n",
              "    <tr>\n",
              "      <th>1585</th>\n",
              "      <td>2020-04-23</td>\n",
              "      <td>Norte</td>\n",
              "      <td>TO</td>\n",
              "      <td>37</td>\n",
              "      <td>2</td>\n",
              "    </tr>\n",
              "    <tr>\n",
              "      <th>3706</th>\n",
              "      <td>2020-07-11</td>\n",
              "      <td>Nordeste</td>\n",
              "      <td>MA</td>\n",
              "      <td>98398</td>\n",
              "      <td>2426</td>\n",
              "    </tr>\n",
              "    <tr>\n",
              "      <th>2162</th>\n",
              "      <td>2020-05-15</td>\n",
              "      <td>Centro-Oeste</td>\n",
              "      <td>MS</td>\n",
              "      <td>479</td>\n",
              "      <td>14</td>\n",
              "    </tr>\n",
              "    <tr>\n",
              "      <th>3075</th>\n",
              "      <td>2020-06-17</td>\n",
              "      <td>Sul</td>\n",
              "      <td>PR</td>\n",
              "      <td>11085</td>\n",
              "      <td>386</td>\n",
              "    </tr>\n",
              "    <tr>\n",
              "      <th>2858</th>\n",
              "      <td>2020-06-09</td>\n",
              "      <td>Sudeste</td>\n",
              "      <td>SP</td>\n",
              "      <td>150138</td>\n",
              "      <td>9522</td>\n",
              "    </tr>\n",
              "    <tr>\n",
              "      <th>1477</th>\n",
              "      <td>2020-04-19</td>\n",
              "      <td>Norte</td>\n",
              "      <td>TO</td>\n",
              "      <td>33</td>\n",
              "      <td>1</td>\n",
              "    </tr>\n",
              "    <tr>\n",
              "      <th>1920</th>\n",
              "      <td>2020-05-06</td>\n",
              "      <td>Centro-Oeste</td>\n",
              "      <td>MT</td>\n",
              "      <td>379</td>\n",
              "      <td>13</td>\n",
              "    </tr>\n",
              "    <tr>\n",
              "      <th>1845</th>\n",
              "      <td>2020-05-03</td>\n",
              "      <td>Nordeste</td>\n",
              "      <td>PE</td>\n",
              "      <td>8643</td>\n",
              "      <td>652</td>\n",
              "    </tr>\n",
              "  </tbody>\n",
              "</table>\n",
              "</div>"
            ],
            "text/plain": [
              "            date        region state   cases  deaths\n",
              "3409  2020-06-30      Nordeste    MA   80451    2048\n",
              "1504  2020-04-20         Norte    TO      34       1\n",
              "1585  2020-04-23         Norte    TO      37       2\n",
              "3706  2020-07-11      Nordeste    MA   98398    2426\n",
              "2162  2020-05-15  Centro-Oeste    MS     479      14\n",
              "3075  2020-06-17           Sul    PR   11085     386\n",
              "2858  2020-06-09       Sudeste    SP  150138    9522\n",
              "1477  2020-04-19         Norte    TO      33       1\n",
              "1920  2020-05-06  Centro-Oeste    MT     379      13\n",
              "1845  2020-05-03      Nordeste    PE    8643     652"
            ]
          },
          "metadata": {
            "tags": []
          },
          "execution_count": 371
        }
      ]
    },
    {
      "cell_type": "code",
      "metadata": {
        "id": "HQyoSdiarzpj",
        "colab_type": "code",
        "colab": {
          "base_uri": "https://localhost:8080/",
          "height": 419
        },
        "outputId": "165a5869-1c48-4f69-df1f-5f3e6a2f2eba"
      },
      "source": [
        "# Depende do interesse em determinado dado\n",
        "df.drop(columns=['region'])"
      ],
      "execution_count": 372,
      "outputs": [
        {
          "output_type": "execute_result",
          "data": {
            "text/html": [
              "<div>\n",
              "<style scoped>\n",
              "    .dataframe tbody tr th:only-of-type {\n",
              "        vertical-align: middle;\n",
              "    }\n",
              "\n",
              "    .dataframe tbody tr th {\n",
              "        vertical-align: top;\n",
              "    }\n",
              "\n",
              "    .dataframe thead th {\n",
              "        text-align: right;\n",
              "    }\n",
              "</style>\n",
              "<table border=\"1\" class=\"dataframe\">\n",
              "  <thead>\n",
              "    <tr style=\"text-align: right;\">\n",
              "      <th></th>\n",
              "      <th>date</th>\n",
              "      <th>state</th>\n",
              "      <th>cases</th>\n",
              "      <th>deaths</th>\n",
              "    </tr>\n",
              "  </thead>\n",
              "  <tbody>\n",
              "    <tr>\n",
              "      <th>0</th>\n",
              "      <td>2020-02-25</td>\n",
              "      <td>DF</td>\n",
              "      <td>0</td>\n",
              "      <td>0</td>\n",
              "    </tr>\n",
              "    <tr>\n",
              "      <th>1</th>\n",
              "      <td>2020-02-25</td>\n",
              "      <td>GO</td>\n",
              "      <td>0</td>\n",
              "      <td>0</td>\n",
              "    </tr>\n",
              "    <tr>\n",
              "      <th>2</th>\n",
              "      <td>2020-02-25</td>\n",
              "      <td>MS</td>\n",
              "      <td>0</td>\n",
              "      <td>0</td>\n",
              "    </tr>\n",
              "    <tr>\n",
              "      <th>3</th>\n",
              "      <td>2020-02-25</td>\n",
              "      <td>MT</td>\n",
              "      <td>0</td>\n",
              "      <td>0</td>\n",
              "    </tr>\n",
              "    <tr>\n",
              "      <th>4</th>\n",
              "      <td>2020-02-25</td>\n",
              "      <td>AL</td>\n",
              "      <td>0</td>\n",
              "      <td>0</td>\n",
              "    </tr>\n",
              "    <tr>\n",
              "      <th>...</th>\n",
              "      <td>...</td>\n",
              "      <td>...</td>\n",
              "      <td>...</td>\n",
              "      <td>...</td>\n",
              "    </tr>\n",
              "    <tr>\n",
              "      <th>3748</th>\n",
              "      <td>2020-07-12</td>\n",
              "      <td>RJ</td>\n",
              "      <td>129684</td>\n",
              "      <td>11415</td>\n",
              "    </tr>\n",
              "    <tr>\n",
              "      <th>3749</th>\n",
              "      <td>2020-07-12</td>\n",
              "      <td>SP</td>\n",
              "      <td>371997</td>\n",
              "      <td>17848</td>\n",
              "    </tr>\n",
              "    <tr>\n",
              "      <th>3750</th>\n",
              "      <td>2020-07-12</td>\n",
              "      <td>PR</td>\n",
              "      <td>42537</td>\n",
              "      <td>1045</td>\n",
              "    </tr>\n",
              "    <tr>\n",
              "      <th>3751</th>\n",
              "      <td>2020-07-12</td>\n",
              "      <td>RS</td>\n",
              "      <td>39240</td>\n",
              "      <td>962</td>\n",
              "    </tr>\n",
              "    <tr>\n",
              "      <th>3752</th>\n",
              "      <td>2020-07-12</td>\n",
              "      <td>SC</td>\n",
              "      <td>43031</td>\n",
              "      <td>497</td>\n",
              "    </tr>\n",
              "  </tbody>\n",
              "</table>\n",
              "<p>3753 rows × 4 columns</p>\n",
              "</div>"
            ],
            "text/plain": [
              "            date state   cases  deaths\n",
              "0     2020-02-25    DF       0       0\n",
              "1     2020-02-25    GO       0       0\n",
              "2     2020-02-25    MS       0       0\n",
              "3     2020-02-25    MT       0       0\n",
              "4     2020-02-25    AL       0       0\n",
              "...          ...   ...     ...     ...\n",
              "3748  2020-07-12    RJ  129684   11415\n",
              "3749  2020-07-12    SP  371997   17848\n",
              "3750  2020-07-12    PR   42537    1045\n",
              "3751  2020-07-12    RS   39240     962\n",
              "3752  2020-07-12    SC   43031     497\n",
              "\n",
              "[3753 rows x 4 columns]"
            ]
          },
          "metadata": {
            "tags": []
          },
          "execution_count": 372
        }
      ]
    },
    {
      "cell_type": "code",
      "metadata": {
        "id": "OjqmUZZ49RHe",
        "colab_type": "code",
        "colab": {}
      },
      "source": [
        "# for i in range(0, len(df['cases'])):\n",
        "#   # df.loc[i, 'cases'] = int(df['cases'][i].replace(',', ''))"
      ],
      "execution_count": 373,
      "outputs": []
    },
    {
      "cell_type": "code",
      "metadata": {
        "id": "4WzZX_Xc_no0",
        "colab_type": "code",
        "colab": {
          "base_uri": "https://localhost:8080/",
          "height": 68
        },
        "outputId": "ab382d1a-11ee-4bc7-d110-2dee6ee7be88"
      },
      "source": [
        "# Médias\n",
        "df.mean()"
      ],
      "execution_count": 374,
      "outputs": [
        {
          "output_type": "execute_result",
          "data": {
            "text/plain": [
              "cases     15213.901412\n",
              "deaths      726.512124\n",
              "dtype: float64"
            ]
          },
          "metadata": {
            "tags": []
          },
          "execution_count": 374
        }
      ]
    },
    {
      "cell_type": "code",
      "metadata": {
        "id": "JqrYZKc3v-xs",
        "colab_type": "code",
        "colab": {
          "base_uri": "https://localhost:8080/",
          "height": 68
        },
        "outputId": "df837382-015f-454e-c5b2-7216c97a4257"
      },
      "source": [
        "# Medianas\n",
        "df.median()"
      ],
      "execution_count": 375,
      "outputs": [
        {
          "output_type": "execute_result",
          "data": {
            "text/plain": [
              "cases     1846.0\n",
              "deaths      64.0\n",
              "dtype: float64"
            ]
          },
          "metadata": {
            "tags": []
          },
          "execution_count": 375
        }
      ]
    },
    {
      "cell_type": "code",
      "metadata": {
        "id": "I6FAN_u-wBw6",
        "colab_type": "code",
        "colab": {
          "base_uri": "https://localhost:8080/",
          "height": 51
        },
        "outputId": "3f3991ef-396b-43e6-c848-a058a3205a47"
      },
      "source": [
        "# Moda do número de casos\n",
        "df['cases'].mode()"
      ],
      "execution_count": 376,
      "outputs": [
        {
          "output_type": "execute_result",
          "data": {
            "text/plain": [
              "0    0\n",
              "dtype: int64"
            ]
          },
          "metadata": {
            "tags": []
          },
          "execution_count": 376
        }
      ]
    },
    {
      "cell_type": "code",
      "metadata": {
        "id": "IBsvBy1-HhOG",
        "colab_type": "code",
        "colab": {
          "base_uri": "https://localhost:8080/",
          "height": 119
        },
        "outputId": "4b434ecd-1329-460d-a170-33d9a7959d59"
      },
      "source": [
        "estados = df['state'].value_counts()\n",
        "estados.sample(5)"
      ],
      "execution_count": 377,
      "outputs": [
        {
          "output_type": "execute_result",
          "data": {
            "text/plain": [
              "AP    139\n",
              "MA    139\n",
              "AL    139\n",
              "TO    139\n",
              "SE    139\n",
              "Name: state, dtype: int64"
            ]
          },
          "metadata": {
            "tags": []
          },
          "execution_count": 377
        }
      ]
    },
    {
      "cell_type": "code",
      "metadata": {
        "id": "Lf6voH8uIehP",
        "colab_type": "code",
        "colab": {
          "base_uri": "https://localhost:8080/",
          "height": 119
        },
        "outputId": "e8ad5dbe-b926-4363-8049-da48a3a181ec"
      },
      "source": [
        "(estados/len(df)).sample(5)"
      ],
      "execution_count": 378,
      "outputs": [
        {
          "output_type": "execute_result",
          "data": {
            "text/plain": [
              "MA    0.037037\n",
              "MG    0.037037\n",
              "PA    0.037037\n",
              "PI    0.037037\n",
              "PR    0.037037\n",
              "Name: state, dtype: float64"
            ]
          },
          "metadata": {
            "tags": []
          },
          "execution_count": 378
        }
      ]
    },
    {
      "cell_type": "code",
      "metadata": {
        "id": "JeWVQo8VJHEK",
        "colab_type": "code",
        "colab": {
          "base_uri": "https://localhost:8080/",
          "height": 281
        },
        "outputId": "2a1db1ef-af18-443f-945a-a9dd94622de0"
      },
      "source": [
        "import matplotlib.pyplot as plt\n",
        "\n",
        "plt.boxplot(df['cases'])\n",
        "plt.title('Casos confirmados de covid-19')\n",
        "plt.ylabel('N° de casos')\n",
        "plt.xticks([1], ['Casos'])\n",
        "\n",
        "plt.show()"
      ],
      "execution_count": 379,
      "outputs": [
        {
          "output_type": "display_data",
          "data": {
            "image/png": "[encoded data removed]",
            "text/plain": [
              "<Figure size 432x288 with 1 Axes>"
            ]
          },
          "metadata": {
            "tags": [],
            "needs_background": "light"
          }
        }
      ]
    },
    {
      "cell_type": "code",
      "metadata": {
        "id": "z20rF4mVSlxQ",
        "colab_type": "code",
        "colab": {
          "base_uri": "https://localhost:8080/",
          "height": 51
        },
        "outputId": "0faff664-f03e-4458-de8f-8e9060b15dae"
      },
      "source": [
        "variancia = df['cases'].var()\n",
        "desvio_padrao = df['cases'].std()\n",
        "\n",
        "# os valores encontrados apresentam grandes oscilações, isto\n",
        "# é os dados variam muito.\n",
        "# variância alta, logo alta volatilidade.\n",
        "print(f'\\033[1mσ²\\033[0m = {round(variancia, 2)}\\n\\033[1mσ\\033[0m = {round(desvio_padrao, 2)}')"
      ],
      "execution_count": 380,
      "outputs": [
        {
          "output_type": "stream",
          "text": [
            "\u001b[1mσ²\u001b[0m = 1122464551.06\n",
            "\u001b[1mσ\u001b[0m = 33503.2\n"
          ],
          "name": "stdout"
        }
      ]
    },
    {
      "cell_type": "markdown",
      "metadata": {
        "id": "vgwZC4CrrZ1M",
        "colab_type": "text"
      },
      "source": [
        "## Dados Multivariados"
      ]
    },
    {
      "cell_type": "markdown",
      "metadata": {
        "id": "HTNIIPn6bQ6k",
        "colab_type": "text"
      },
      "source": [
        "- Correlação positiva: ambas as variáveis mudam na mesma direção.\n",
        "- Correlação Nula: Nenhuma relação na mudança das variáveis.\n",
        "- Correlação Negativa: as variáveis mudam em direções opostas."
      ]
    },
    {
      "cell_type": "code",
      "metadata": {
        "id": "yR--S_9VWyqu",
        "colab_type": "code",
        "colab": {
          "base_uri": "https://localhost:8080/",
          "height": 82
        },
        "outputId": "602cd143-43b4-4088-9448-8f904850784b"
      },
      "source": [
        "corr = df.corr()\n",
        "corr.style.background_gradient(cmap=\"coolwarm\")"
      ],
      "execution_count": 381,
      "outputs": [
        {
          "output_type": "execute_result",
          "data": {
            "text/html": [
              "<style  type=\"text/css\" >\n",
              "    #T_63f50c08_c545_11ea_820c_0242ac1c0002row0_col0 {\n",
              "            background-color:  #b40426;\n",
              "            color:  #f1f1f1;\n",
              "        }    #T_63f50c08_c545_11ea_820c_0242ac1c0002row0_col1 {\n",
              "            background-color:  #3b4cc0;\n",
              "            color:  #f1f1f1;\n",
              "        }    #T_63f50c08_c545_11ea_820c_0242ac1c0002row1_col0 {\n",
              "            background-color:  #3b4cc0;\n",
              "            color:  #f1f1f1;\n",
              "        }    #T_63f50c08_c545_11ea_820c_0242ac1c0002row1_col1 {\n",
              "            background-color:  #b40426;\n",
              "            color:  #f1f1f1;\n",
              "        }</style><table id=\"T_63f50c08_c545_11ea_820c_0242ac1c0002\" ><thead>    <tr>        <th class=\"blank level0\" ></th>        <th class=\"col_heading level0 col0\" >cases</th>        <th class=\"col_heading level0 col1\" >deaths</th>    </tr></thead><tbody>\n",
              "                <tr>\n",
              "                        <th id=\"T_63f50c08_c545_11ea_820c_0242ac1c0002level0_row0\" class=\"row_heading level0 row0\" >cases</th>\n",
              "                        <td id=\"T_63f50c08_c545_11ea_820c_0242ac1c0002row0_col0\" class=\"data row0 col0\" >1.000000</td>\n",
              "                        <td id=\"T_63f50c08_c545_11ea_820c_0242ac1c0002row0_col1\" class=\"data row0 col1\" >0.934907</td>\n",
              "            </tr>\n",
              "            <tr>\n",
              "                        <th id=\"T_63f50c08_c545_11ea_820c_0242ac1c0002level0_row1\" class=\"row_heading level0 row1\" >deaths</th>\n",
              "                        <td id=\"T_63f50c08_c545_11ea_820c_0242ac1c0002row1_col0\" class=\"data row1 col0\" >0.934907</td>\n",
              "                        <td id=\"T_63f50c08_c545_11ea_820c_0242ac1c0002row1_col1\" class=\"data row1 col1\" >1.000000</td>\n",
              "            </tr>\n",
              "    </tbody></table>"
            ],
            "text/plain": [
              "<pandas.io.formats.style.Styler at 0x7f587d08f518>"
            ]
          },
          "metadata": {
            "tags": []
          },
          "execution_count": 381
        }
      ]
    },
    {
      "cell_type": "code",
      "metadata": {
        "id": "zEPDbPP_bTYv",
        "colab_type": "code",
        "colab": {
          "base_uri": "https://localhost:8080/",
          "height": 173
        },
        "outputId": "3efc8f3d-34ae-48a2-b697-7ff767d25043"
      },
      "source": [
        "df.loc[df['state'] == \"SP\"].sample(n=4, random_state=2)"
      ],
      "execution_count": 382,
      "outputs": [
        {
          "output_type": "execute_result",
          "data": {
            "text/html": [
              "<div>\n",
              "<style scoped>\n",
              "    .dataframe tbody tr th:only-of-type {\n",
              "        vertical-align: middle;\n",
              "    }\n",
              "\n",
              "    .dataframe tbody tr th {\n",
              "        vertical-align: top;\n",
              "    }\n",
              "\n",
              "    .dataframe thead th {\n",
              "        text-align: right;\n",
              "    }\n",
              "</style>\n",
              "<table border=\"1\" class=\"dataframe\">\n",
              "  <thead>\n",
              "    <tr style=\"text-align: right;\">\n",
              "      <th></th>\n",
              "      <th>date</th>\n",
              "      <th>region</th>\n",
              "      <th>state</th>\n",
              "      <th>cases</th>\n",
              "      <th>deaths</th>\n",
              "    </tr>\n",
              "  </thead>\n",
              "  <tbody>\n",
              "    <tr>\n",
              "      <th>2750</th>\n",
              "      <td>2020-06-05</td>\n",
              "      <td>Sudeste</td>\n",
              "      <td>SP</td>\n",
              "      <td>134565</td>\n",
              "      <td>8842</td>\n",
              "    </tr>\n",
              "    <tr>\n",
              "      <th>3074</th>\n",
              "      <td>2020-06-17</td>\n",
              "      <td>Sudeste</td>\n",
              "      <td>SP</td>\n",
              "      <td>191517</td>\n",
              "      <td>11521</td>\n",
              "    </tr>\n",
              "    <tr>\n",
              "      <th>1319</th>\n",
              "      <td>2020-04-13</td>\n",
              "      <td>Sudeste</td>\n",
              "      <td>SP</td>\n",
              "      <td>8895</td>\n",
              "      <td>608</td>\n",
              "    </tr>\n",
              "    <tr>\n",
              "      <th>1778</th>\n",
              "      <td>2020-04-30</td>\n",
              "      <td>Sudeste</td>\n",
              "      <td>SP</td>\n",
              "      <td>28698</td>\n",
              "      <td>2375</td>\n",
              "    </tr>\n",
              "  </tbody>\n",
              "</table>\n",
              "</div>"
            ],
            "text/plain": [
              "            date   region state   cases  deaths\n",
              "2750  2020-06-05  Sudeste    SP  134565    8842\n",
              "3074  2020-06-17  Sudeste    SP  191517   11521\n",
              "1319  2020-04-13  Sudeste    SP    8895     608\n",
              "1778  2020-04-30  Sudeste    SP   28698    2375"
            ]
          },
          "metadata": {
            "tags": []
          },
          "execution_count": 382
        }
      ]
    },
    {
      "cell_type": "code",
      "metadata": {
        "id": "brMNGLIydQku",
        "colab_type": "code",
        "colab": {
          "base_uri": "https://localhost:8080/",
          "height": 281
        },
        "outputId": "18a6d4a0-46a2-4096-b018-52875a142abc"
      },
      "source": [
        "plt.boxplot(df['deaths'])\n",
        "plt.title('Mortes confirmadas de covid-19')\n",
        "plt.ylabel('N° de mortes')\n",
        "plt.xticks([1], ['Mortes'])\n",
        "\n",
        "plt.show()"
      ],
      "execution_count": 383,
      "outputs": [
        {
          "output_type": "display_data",
          "data": {
            "image/png": "[encoded data removed]",
            "text/plain": [
              "<Figure size 432x288 with 1 Axes>"
            ]
          },
          "metadata": {
            "tags": [],
            "needs_background": "light"
          }
        }
      ]
    }
  ]
}